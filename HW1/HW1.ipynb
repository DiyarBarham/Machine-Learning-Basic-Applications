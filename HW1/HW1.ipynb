{
 "cells": [
  {
   "cell_type": "markdown",
   "id": "0979abeb",
   "metadata": {},
   "source": [
    "<h2>The Problem</h2>"
   ]
  },
  {
   "cell_type": "markdown",
   "id": "0845020d",
   "metadata": {},
   "source": [
    "The grades.csv file contains grades of different assessments (homework, midterm,\n",
    "project, final) for a group of students in a specific course. We are interested in\n",
    "studying the relationship between the final exam grade (the target variable) and\n",
    "other assessments (input variables)."
   ]
  },
  {
   "cell_type": "markdown",
   "id": "c5e65874",
   "metadata": {},
   "source": [
    "<h2>Importing the Data</h2>"
   ]
  },
  {
   "cell_type": "code",
   "execution_count": 101,
   "id": "cb636fdf",
   "metadata": {},
   "outputs": [],
   "source": [
    "import pandas as pd\n",
    "import matplotlib.pyplot as plt\n",
    "import numpy as np\n",
    "from sklearn.linear_model import LinearRegression"
   ]
  },
  {
   "cell_type": "code",
   "execution_count": 102,
   "id": "8a484a61",
   "metadata": {},
   "outputs": [],
   "source": [
    "df = pd.read_csv(\"C:\\\\Users\\\\Bisan Co\\\\Desktop\\\\Machine Learning Course\\\\grades.csv\")"
   ]
  },
  {
   "cell_type": "code",
   "execution_count": 103,
   "id": "b1bc254b",
   "metadata": {},
   "outputs": [
    {
     "data": {
      "text/html": [
       "<div>\n",
       "<style scoped>\n",
       "    .dataframe tbody tr th:only-of-type {\n",
       "        vertical-align: middle;\n",
       "    }\n",
       "\n",
       "    .dataframe tbody tr th {\n",
       "        vertical-align: top;\n",
       "    }\n",
       "\n",
       "    .dataframe thead th {\n",
       "        text-align: right;\n",
       "    }\n",
       "</style>\n",
       "<table border=\"1\" class=\"dataframe\">\n",
       "  <thead>\n",
       "    <tr style=\"text-align: right;\">\n",
       "      <th></th>\n",
       "      <th>HW1</th>\n",
       "      <th>HW2</th>\n",
       "      <th>Midterm</th>\n",
       "      <th>Project</th>\n",
       "      <th>Final</th>\n",
       "    </tr>\n",
       "  </thead>\n",
       "  <tbody>\n",
       "    <tr>\n",
       "      <th>0</th>\n",
       "      <td>0</td>\n",
       "      <td>78</td>\n",
       "      <td>32</td>\n",
       "      <td>87</td>\n",
       "      <td>71</td>\n",
       "    </tr>\n",
       "    <tr>\n",
       "      <th>1</th>\n",
       "      <td>0</td>\n",
       "      <td>37</td>\n",
       "      <td>25</td>\n",
       "      <td>91</td>\n",
       "      <td>48</td>\n",
       "    </tr>\n",
       "    <tr>\n",
       "      <th>2</th>\n",
       "      <td>63</td>\n",
       "      <td>100</td>\n",
       "      <td>34</td>\n",
       "      <td>92</td>\n",
       "      <td>59</td>\n",
       "    </tr>\n",
       "    <tr>\n",
       "      <th>3</th>\n",
       "      <td>70</td>\n",
       "      <td>93</td>\n",
       "      <td>35</td>\n",
       "      <td>92</td>\n",
       "      <td>64</td>\n",
       "    </tr>\n",
       "    <tr>\n",
       "      <th>4</th>\n",
       "      <td>50</td>\n",
       "      <td>75</td>\n",
       "      <td>20</td>\n",
       "      <td>76</td>\n",
       "      <td>42</td>\n",
       "    </tr>\n",
       "    <tr>\n",
       "      <th>5</th>\n",
       "      <td>43</td>\n",
       "      <td>0</td>\n",
       "      <td>26</td>\n",
       "      <td>55</td>\n",
       "      <td>54</td>\n",
       "    </tr>\n",
       "    <tr>\n",
       "      <th>6</th>\n",
       "      <td>0</td>\n",
       "      <td>47</td>\n",
       "      <td>22</td>\n",
       "      <td>0</td>\n",
       "      <td>37</td>\n",
       "    </tr>\n",
       "    <tr>\n",
       "      <th>7</th>\n",
       "      <td>47</td>\n",
       "      <td>80</td>\n",
       "      <td>26</td>\n",
       "      <td>94</td>\n",
       "      <td>56</td>\n",
       "    </tr>\n",
       "    <tr>\n",
       "      <th>8</th>\n",
       "      <td>97</td>\n",
       "      <td>97</td>\n",
       "      <td>30</td>\n",
       "      <td>92</td>\n",
       "      <td>60</td>\n",
       "    </tr>\n",
       "    <tr>\n",
       "      <th>9</th>\n",
       "      <td>50</td>\n",
       "      <td>67</td>\n",
       "      <td>21</td>\n",
       "      <td>76</td>\n",
       "      <td>38</td>\n",
       "    </tr>\n",
       "    <tr>\n",
       "      <th>10</th>\n",
       "      <td>40</td>\n",
       "      <td>0</td>\n",
       "      <td>18</td>\n",
       "      <td>94</td>\n",
       "      <td>35</td>\n",
       "    </tr>\n",
       "    <tr>\n",
       "      <th>11</th>\n",
       "      <td>57</td>\n",
       "      <td>87</td>\n",
       "      <td>28</td>\n",
       "      <td>76</td>\n",
       "      <td>47</td>\n",
       "    </tr>\n",
       "    <tr>\n",
       "      <th>12</th>\n",
       "      <td>23</td>\n",
       "      <td>100</td>\n",
       "      <td>29</td>\n",
       "      <td>75</td>\n",
       "      <td>44</td>\n",
       "    </tr>\n",
       "    <tr>\n",
       "      <th>13</th>\n",
       "      <td>63</td>\n",
       "      <td>50</td>\n",
       "      <td>26</td>\n",
       "      <td>75</td>\n",
       "      <td>58</td>\n",
       "    </tr>\n",
       "    <tr>\n",
       "      <th>14</th>\n",
       "      <td>77</td>\n",
       "      <td>93</td>\n",
       "      <td>29</td>\n",
       "      <td>71</td>\n",
       "      <td>52</td>\n",
       "    </tr>\n",
       "    <tr>\n",
       "      <th>15</th>\n",
       "      <td>57</td>\n",
       "      <td>83</td>\n",
       "      <td>28</td>\n",
       "      <td>72</td>\n",
       "      <td>62</td>\n",
       "    </tr>\n",
       "    <tr>\n",
       "      <th>16</th>\n",
       "      <td>57</td>\n",
       "      <td>87</td>\n",
       "      <td>28</td>\n",
       "      <td>72</td>\n",
       "      <td>45</td>\n",
       "    </tr>\n",
       "    <tr>\n",
       "      <th>17</th>\n",
       "      <td>63</td>\n",
       "      <td>50</td>\n",
       "      <td>27</td>\n",
       "      <td>85</td>\n",
       "      <td>44</td>\n",
       "    </tr>\n",
       "    <tr>\n",
       "      <th>18</th>\n",
       "      <td>80</td>\n",
       "      <td>97</td>\n",
       "      <td>40</td>\n",
       "      <td>85</td>\n",
       "      <td>68</td>\n",
       "    </tr>\n",
       "    <tr>\n",
       "      <th>19</th>\n",
       "      <td>83</td>\n",
       "      <td>100</td>\n",
       "      <td>57</td>\n",
       "      <td>98</td>\n",
       "      <td>94</td>\n",
       "    </tr>\n",
       "    <tr>\n",
       "      <th>20</th>\n",
       "      <td>100</td>\n",
       "      <td>95</td>\n",
       "      <td>56</td>\n",
       "      <td>98</td>\n",
       "      <td>85</td>\n",
       "    </tr>\n",
       "    <tr>\n",
       "      <th>21</th>\n",
       "      <td>67</td>\n",
       "      <td>73</td>\n",
       "      <td>34</td>\n",
       "      <td>71</td>\n",
       "      <td>62</td>\n",
       "    </tr>\n",
       "    <tr>\n",
       "      <th>22</th>\n",
       "      <td>70</td>\n",
       "      <td>87</td>\n",
       "      <td>32</td>\n",
       "      <td>95</td>\n",
       "      <td>58</td>\n",
       "    </tr>\n",
       "    <tr>\n",
       "      <th>23</th>\n",
       "      <td>17</td>\n",
       "      <td>80</td>\n",
       "      <td>0</td>\n",
       "      <td>85</td>\n",
       "      <td>0</td>\n",
       "    </tr>\n",
       "    <tr>\n",
       "      <th>24</th>\n",
       "      <td>97</td>\n",
       "      <td>97</td>\n",
       "      <td>44</td>\n",
       "      <td>95</td>\n",
       "      <td>68</td>\n",
       "    </tr>\n",
       "    <tr>\n",
       "      <th>25</th>\n",
       "      <td>73</td>\n",
       "      <td>87</td>\n",
       "      <td>25</td>\n",
       "      <td>85</td>\n",
       "      <td>53</td>\n",
       "    </tr>\n",
       "    <tr>\n",
       "      <th>26</th>\n",
       "      <td>80</td>\n",
       "      <td>100</td>\n",
       "      <td>46</td>\n",
       "      <td>98</td>\n",
       "      <td>81</td>\n",
       "    </tr>\n",
       "    <tr>\n",
       "      <th>27</th>\n",
       "      <td>80</td>\n",
       "      <td>90</td>\n",
       "      <td>43</td>\n",
       "      <td>94</td>\n",
       "      <td>64</td>\n",
       "    </tr>\n",
       "    <tr>\n",
       "      <th>28</th>\n",
       "      <td>80</td>\n",
       "      <td>93</td>\n",
       "      <td>48</td>\n",
       "      <td>94</td>\n",
       "      <td>77</td>\n",
       "    </tr>\n",
       "    <tr>\n",
       "      <th>29</th>\n",
       "      <td>80</td>\n",
       "      <td>100</td>\n",
       "      <td>41</td>\n",
       "      <td>94</td>\n",
       "      <td>78</td>\n",
       "    </tr>\n",
       "    <tr>\n",
       "      <th>30</th>\n",
       "      <td>80</td>\n",
       "      <td>100</td>\n",
       "      <td>47</td>\n",
       "      <td>94</td>\n",
       "      <td>81</td>\n",
       "    </tr>\n",
       "    <tr>\n",
       "      <th>31</th>\n",
       "      <td>93</td>\n",
       "      <td>47</td>\n",
       "      <td>38</td>\n",
       "      <td>92</td>\n",
       "      <td>59</td>\n",
       "    </tr>\n",
       "  </tbody>\n",
       "</table>\n",
       "</div>"
      ],
      "text/plain": [
       "    HW1  HW2  Midterm  Project  Final\n",
       "0     0   78       32       87     71\n",
       "1     0   37       25       91     48\n",
       "2    63  100       34       92     59\n",
       "3    70   93       35       92     64\n",
       "4    50   75       20       76     42\n",
       "5    43    0       26       55     54\n",
       "6     0   47       22        0     37\n",
       "7    47   80       26       94     56\n",
       "8    97   97       30       92     60\n",
       "9    50   67       21       76     38\n",
       "10   40    0       18       94     35\n",
       "11   57   87       28       76     47\n",
       "12   23  100       29       75     44\n",
       "13   63   50       26       75     58\n",
       "14   77   93       29       71     52\n",
       "15   57   83       28       72     62\n",
       "16   57   87       28       72     45\n",
       "17   63   50       27       85     44\n",
       "18   80   97       40       85     68\n",
       "19   83  100       57       98     94\n",
       "20  100   95       56       98     85\n",
       "21   67   73       34       71     62\n",
       "22   70   87       32       95     58\n",
       "23   17   80        0       85      0\n",
       "24   97   97       44       95     68\n",
       "25   73   87       25       85     53\n",
       "26   80  100       46       98     81\n",
       "27   80   90       43       94     64\n",
       "28   80   93       48       94     77\n",
       "29   80  100       41       94     78\n",
       "30   80  100       47       94     81\n",
       "31   93   47       38       92     59"
      ]
     },
     "execution_count": 103,
     "metadata": {},
     "output_type": "execute_result"
    }
   ],
   "source": [
    "df"
   ]
  },
  {
   "cell_type": "code",
   "execution_count": 104,
   "id": "e7711fed",
   "metadata": {},
   "outputs": [
    {
     "data": {
      "text/plain": [
       "(32, 5)"
      ]
     },
     "execution_count": 104,
     "metadata": {},
     "output_type": "execute_result"
    }
   ],
   "source": [
    "df.shape"
   ]
  },
  {
   "cell_type": "code",
   "execution_count": 105,
   "id": "c65f2b55",
   "metadata": {},
   "outputs": [
    {
     "name": "stdout",
     "output_type": "stream",
     "text": [
      "<class 'pandas.core.frame.DataFrame'>\n",
      "RangeIndex: 32 entries, 0 to 31\n",
      "Data columns (total 5 columns):\n",
      " #   Column   Non-Null Count  Dtype\n",
      "---  ------   --------------  -----\n",
      " 0   HW1      32 non-null     int64\n",
      " 1   HW2      32 non-null     int64\n",
      " 2   Midterm  32 non-null     int64\n",
      " 3   Project  32 non-null     int64\n",
      " 4   Final    32 non-null     int64\n",
      "dtypes: int64(5)\n",
      "memory usage: 1.4 KB\n"
     ]
    }
   ],
   "source": [
    "df.info()"
   ]
  },
  {
   "cell_type": "markdown",
   "id": "81fb5110",
   "metadata": {},
   "source": [
    "<h2> Question 1 </h2>"
   ]
  },
  {
   "cell_type": "markdown",
   "id": "bb3b441f",
   "metadata": {},
   "source": [
    "Some values are missing (indicated by 0 value). Address all the missing values\n",
    "by using the average of the available values for the corresponding variable."
   ]
  },
  {
   "cell_type": "code",
   "execution_count": 106,
   "id": "2ddf2ee5",
   "metadata": {},
   "outputs": [],
   "source": [
    "df['HW1']=df['HW1'].replace(0,df['HW1'].mean())\n",
    "df['HW2']=df['HW2'].replace(0,df['HW2'].mean())\n",
    "df['Midterm']=df['Midterm'].replace(0,df['Midterm'].mean())\n",
    "df['Project']=df['Project'].replace(0,df['Project'].mean())\n",
    "df['Final']=df['Final'].replace(0,df['Final'].mean())"
   ]
  },
  {
   "cell_type": "code",
   "execution_count": 107,
   "id": "3edad666",
   "metadata": {},
   "outputs": [
    {
     "data": {
      "text/html": [
       "<div>\n",
       "<style scoped>\n",
       "    .dataframe tbody tr th:only-of-type {\n",
       "        vertical-align: middle;\n",
       "    }\n",
       "\n",
       "    .dataframe tbody tr th {\n",
       "        vertical-align: top;\n",
       "    }\n",
       "\n",
       "    .dataframe thead th {\n",
       "        text-align: right;\n",
       "    }\n",
       "</style>\n",
       "<table border=\"1\" class=\"dataframe\">\n",
       "  <thead>\n",
       "    <tr style=\"text-align: right;\">\n",
       "      <th></th>\n",
       "      <th>HW1</th>\n",
       "      <th>HW2</th>\n",
       "      <th>Midterm</th>\n",
       "      <th>Project</th>\n",
       "      <th>Final</th>\n",
       "    </tr>\n",
       "  </thead>\n",
       "  <tbody>\n",
       "    <tr>\n",
       "      <th>0</th>\n",
       "      <td>60.53125</td>\n",
       "      <td>78.0000</td>\n",
       "      <td>32.00000</td>\n",
       "      <td>87.00000</td>\n",
       "      <td>71.000</td>\n",
       "    </tr>\n",
       "    <tr>\n",
       "      <th>1</th>\n",
       "      <td>60.53125</td>\n",
       "      <td>37.0000</td>\n",
       "      <td>25.00000</td>\n",
       "      <td>91.00000</td>\n",
       "      <td>48.000</td>\n",
       "    </tr>\n",
       "    <tr>\n",
       "      <th>2</th>\n",
       "      <td>63.00000</td>\n",
       "      <td>100.0000</td>\n",
       "      <td>34.00000</td>\n",
       "      <td>92.00000</td>\n",
       "      <td>59.000</td>\n",
       "    </tr>\n",
       "    <tr>\n",
       "      <th>3</th>\n",
       "      <td>70.00000</td>\n",
       "      <td>93.0000</td>\n",
       "      <td>35.00000</td>\n",
       "      <td>92.00000</td>\n",
       "      <td>64.000</td>\n",
       "    </tr>\n",
       "    <tr>\n",
       "      <th>4</th>\n",
       "      <td>50.00000</td>\n",
       "      <td>75.0000</td>\n",
       "      <td>20.00000</td>\n",
       "      <td>76.00000</td>\n",
       "      <td>42.000</td>\n",
       "    </tr>\n",
       "    <tr>\n",
       "      <th>5</th>\n",
       "      <td>43.00000</td>\n",
       "      <td>77.1875</td>\n",
       "      <td>26.00000</td>\n",
       "      <td>55.00000</td>\n",
       "      <td>54.000</td>\n",
       "    </tr>\n",
       "    <tr>\n",
       "      <th>6</th>\n",
       "      <td>60.53125</td>\n",
       "      <td>47.0000</td>\n",
       "      <td>22.00000</td>\n",
       "      <td>82.90625</td>\n",
       "      <td>37.000</td>\n",
       "    </tr>\n",
       "    <tr>\n",
       "      <th>7</th>\n",
       "      <td>47.00000</td>\n",
       "      <td>80.0000</td>\n",
       "      <td>26.00000</td>\n",
       "      <td>94.00000</td>\n",
       "      <td>56.000</td>\n",
       "    </tr>\n",
       "    <tr>\n",
       "      <th>8</th>\n",
       "      <td>97.00000</td>\n",
       "      <td>97.0000</td>\n",
       "      <td>30.00000</td>\n",
       "      <td>92.00000</td>\n",
       "      <td>60.000</td>\n",
       "    </tr>\n",
       "    <tr>\n",
       "      <th>9</th>\n",
       "      <td>50.00000</td>\n",
       "      <td>67.0000</td>\n",
       "      <td>21.00000</td>\n",
       "      <td>76.00000</td>\n",
       "      <td>38.000</td>\n",
       "    </tr>\n",
       "    <tr>\n",
       "      <th>10</th>\n",
       "      <td>40.00000</td>\n",
       "      <td>77.1875</td>\n",
       "      <td>18.00000</td>\n",
       "      <td>94.00000</td>\n",
       "      <td>35.000</td>\n",
       "    </tr>\n",
       "    <tr>\n",
       "      <th>11</th>\n",
       "      <td>57.00000</td>\n",
       "      <td>87.0000</td>\n",
       "      <td>28.00000</td>\n",
       "      <td>76.00000</td>\n",
       "      <td>47.000</td>\n",
       "    </tr>\n",
       "    <tr>\n",
       "      <th>12</th>\n",
       "      <td>23.00000</td>\n",
       "      <td>100.0000</td>\n",
       "      <td>29.00000</td>\n",
       "      <td>75.00000</td>\n",
       "      <td>44.000</td>\n",
       "    </tr>\n",
       "    <tr>\n",
       "      <th>13</th>\n",
       "      <td>63.00000</td>\n",
       "      <td>50.0000</td>\n",
       "      <td>26.00000</td>\n",
       "      <td>75.00000</td>\n",
       "      <td>58.000</td>\n",
       "    </tr>\n",
       "    <tr>\n",
       "      <th>14</th>\n",
       "      <td>77.00000</td>\n",
       "      <td>93.0000</td>\n",
       "      <td>29.00000</td>\n",
       "      <td>71.00000</td>\n",
       "      <td>52.000</td>\n",
       "    </tr>\n",
       "    <tr>\n",
       "      <th>15</th>\n",
       "      <td>57.00000</td>\n",
       "      <td>83.0000</td>\n",
       "      <td>28.00000</td>\n",
       "      <td>72.00000</td>\n",
       "      <td>62.000</td>\n",
       "    </tr>\n",
       "    <tr>\n",
       "      <th>16</th>\n",
       "      <td>57.00000</td>\n",
       "      <td>87.0000</td>\n",
       "      <td>28.00000</td>\n",
       "      <td>72.00000</td>\n",
       "      <td>45.000</td>\n",
       "    </tr>\n",
       "    <tr>\n",
       "      <th>17</th>\n",
       "      <td>63.00000</td>\n",
       "      <td>50.0000</td>\n",
       "      <td>27.00000</td>\n",
       "      <td>85.00000</td>\n",
       "      <td>44.000</td>\n",
       "    </tr>\n",
       "    <tr>\n",
       "      <th>18</th>\n",
       "      <td>80.00000</td>\n",
       "      <td>97.0000</td>\n",
       "      <td>40.00000</td>\n",
       "      <td>85.00000</td>\n",
       "      <td>68.000</td>\n",
       "    </tr>\n",
       "    <tr>\n",
       "      <th>19</th>\n",
       "      <td>83.00000</td>\n",
       "      <td>100.0000</td>\n",
       "      <td>57.00000</td>\n",
       "      <td>98.00000</td>\n",
       "      <td>94.000</td>\n",
       "    </tr>\n",
       "    <tr>\n",
       "      <th>20</th>\n",
       "      <td>100.00000</td>\n",
       "      <td>95.0000</td>\n",
       "      <td>56.00000</td>\n",
       "      <td>98.00000</td>\n",
       "      <td>85.000</td>\n",
       "    </tr>\n",
       "    <tr>\n",
       "      <th>21</th>\n",
       "      <td>67.00000</td>\n",
       "      <td>73.0000</td>\n",
       "      <td>34.00000</td>\n",
       "      <td>71.00000</td>\n",
       "      <td>62.000</td>\n",
       "    </tr>\n",
       "    <tr>\n",
       "      <th>22</th>\n",
       "      <td>70.00000</td>\n",
       "      <td>87.0000</td>\n",
       "      <td>32.00000</td>\n",
       "      <td>95.00000</td>\n",
       "      <td>58.000</td>\n",
       "    </tr>\n",
       "    <tr>\n",
       "      <th>23</th>\n",
       "      <td>17.00000</td>\n",
       "      <td>80.0000</td>\n",
       "      <td>32.34375</td>\n",
       "      <td>85.00000</td>\n",
       "      <td>57.625</td>\n",
       "    </tr>\n",
       "    <tr>\n",
       "      <th>24</th>\n",
       "      <td>97.00000</td>\n",
       "      <td>97.0000</td>\n",
       "      <td>44.00000</td>\n",
       "      <td>95.00000</td>\n",
       "      <td>68.000</td>\n",
       "    </tr>\n",
       "    <tr>\n",
       "      <th>25</th>\n",
       "      <td>73.00000</td>\n",
       "      <td>87.0000</td>\n",
       "      <td>25.00000</td>\n",
       "      <td>85.00000</td>\n",
       "      <td>53.000</td>\n",
       "    </tr>\n",
       "    <tr>\n",
       "      <th>26</th>\n",
       "      <td>80.00000</td>\n",
       "      <td>100.0000</td>\n",
       "      <td>46.00000</td>\n",
       "      <td>98.00000</td>\n",
       "      <td>81.000</td>\n",
       "    </tr>\n",
       "    <tr>\n",
       "      <th>27</th>\n",
       "      <td>80.00000</td>\n",
       "      <td>90.0000</td>\n",
       "      <td>43.00000</td>\n",
       "      <td>94.00000</td>\n",
       "      <td>64.000</td>\n",
       "    </tr>\n",
       "    <tr>\n",
       "      <th>28</th>\n",
       "      <td>80.00000</td>\n",
       "      <td>93.0000</td>\n",
       "      <td>48.00000</td>\n",
       "      <td>94.00000</td>\n",
       "      <td>77.000</td>\n",
       "    </tr>\n",
       "    <tr>\n",
       "      <th>29</th>\n",
       "      <td>80.00000</td>\n",
       "      <td>100.0000</td>\n",
       "      <td>41.00000</td>\n",
       "      <td>94.00000</td>\n",
       "      <td>78.000</td>\n",
       "    </tr>\n",
       "    <tr>\n",
       "      <th>30</th>\n",
       "      <td>80.00000</td>\n",
       "      <td>100.0000</td>\n",
       "      <td>47.00000</td>\n",
       "      <td>94.00000</td>\n",
       "      <td>81.000</td>\n",
       "    </tr>\n",
       "    <tr>\n",
       "      <th>31</th>\n",
       "      <td>93.00000</td>\n",
       "      <td>47.0000</td>\n",
       "      <td>38.00000</td>\n",
       "      <td>92.00000</td>\n",
       "      <td>59.000</td>\n",
       "    </tr>\n",
       "  </tbody>\n",
       "</table>\n",
       "</div>"
      ],
      "text/plain": [
       "          HW1       HW2   Midterm   Project   Final\n",
       "0    60.53125   78.0000  32.00000  87.00000  71.000\n",
       "1    60.53125   37.0000  25.00000  91.00000  48.000\n",
       "2    63.00000  100.0000  34.00000  92.00000  59.000\n",
       "3    70.00000   93.0000  35.00000  92.00000  64.000\n",
       "4    50.00000   75.0000  20.00000  76.00000  42.000\n",
       "5    43.00000   77.1875  26.00000  55.00000  54.000\n",
       "6    60.53125   47.0000  22.00000  82.90625  37.000\n",
       "7    47.00000   80.0000  26.00000  94.00000  56.000\n",
       "8    97.00000   97.0000  30.00000  92.00000  60.000\n",
       "9    50.00000   67.0000  21.00000  76.00000  38.000\n",
       "10   40.00000   77.1875  18.00000  94.00000  35.000\n",
       "11   57.00000   87.0000  28.00000  76.00000  47.000\n",
       "12   23.00000  100.0000  29.00000  75.00000  44.000\n",
       "13   63.00000   50.0000  26.00000  75.00000  58.000\n",
       "14   77.00000   93.0000  29.00000  71.00000  52.000\n",
       "15   57.00000   83.0000  28.00000  72.00000  62.000\n",
       "16   57.00000   87.0000  28.00000  72.00000  45.000\n",
       "17   63.00000   50.0000  27.00000  85.00000  44.000\n",
       "18   80.00000   97.0000  40.00000  85.00000  68.000\n",
       "19   83.00000  100.0000  57.00000  98.00000  94.000\n",
       "20  100.00000   95.0000  56.00000  98.00000  85.000\n",
       "21   67.00000   73.0000  34.00000  71.00000  62.000\n",
       "22   70.00000   87.0000  32.00000  95.00000  58.000\n",
       "23   17.00000   80.0000  32.34375  85.00000  57.625\n",
       "24   97.00000   97.0000  44.00000  95.00000  68.000\n",
       "25   73.00000   87.0000  25.00000  85.00000  53.000\n",
       "26   80.00000  100.0000  46.00000  98.00000  81.000\n",
       "27   80.00000   90.0000  43.00000  94.00000  64.000\n",
       "28   80.00000   93.0000  48.00000  94.00000  77.000\n",
       "29   80.00000  100.0000  41.00000  94.00000  78.000\n",
       "30   80.00000  100.0000  47.00000  94.00000  81.000\n",
       "31   93.00000   47.0000  38.00000  92.00000  59.000"
      ]
     },
     "execution_count": 107,
     "metadata": {},
     "output_type": "execute_result"
    }
   ],
   "source": [
    "df"
   ]
  },
  {
   "cell_type": "markdown",
   "id": "26369221",
   "metadata": {},
   "source": [
    "<h2> Question 2 </h2>"
   ]
  },
  {
   "cell_type": "markdown",
   "id": "d112dede",
   "metadata": {},
   "source": [
    "Using data science techniques that we discussed in the course, examine which\n",
    "of the input variables would be a good predictor for the final exam."
   ]
  },
  {
   "cell_type": "code",
   "execution_count": 108,
   "id": "f088ccc4",
   "metadata": {},
   "outputs": [
    {
     "data": {
      "text/html": [
       "<style type=\"text/css\">\n",
       "#T_89eb3_row0_col0, #T_89eb3_row1_col1, #T_89eb3_row2_col2, #T_89eb3_row3_col3, #T_89eb3_row4_col4 {\n",
       "  background-color: #b40426;\n",
       "  color: #f1f1f1;\n",
       "}\n",
       "#T_89eb3_row0_col1, #T_89eb3_row1_col0, #T_89eb3_row1_col2, #T_89eb3_row1_col3, #T_89eb3_row3_col4 {\n",
       "  background-color: #3b4cc0;\n",
       "  color: #f1f1f1;\n",
       "}\n",
       "#T_89eb3_row0_col2 {\n",
       "  background-color: #88abfd;\n",
       "  color: #000000;\n",
       "}\n",
       "#T_89eb3_row0_col3 {\n",
       "  background-color: #abc8fd;\n",
       "  color: #000000;\n",
       "}\n",
       "#T_89eb3_row0_col4 {\n",
       "  background-color: #799cf8;\n",
       "  color: #f1f1f1;\n",
       "}\n",
       "#T_89eb3_row1_col4 {\n",
       "  background-color: #485fd1;\n",
       "  color: #f1f1f1;\n",
       "}\n",
       "#T_89eb3_row2_col0 {\n",
       "  background-color: #e5d8d1;\n",
       "  color: #000000;\n",
       "}\n",
       "#T_89eb3_row2_col1 {\n",
       "  background-color: #bcd2f7;\n",
       "  color: #000000;\n",
       "}\n",
       "#T_89eb3_row2_col3 {\n",
       "  background-color: #c7d7f0;\n",
       "  color: #000000;\n",
       "}\n",
       "#T_89eb3_row2_col4 {\n",
       "  background-color: #e8765c;\n",
       "  color: #f1f1f1;\n",
       "}\n",
       "#T_89eb3_row3_col0 {\n",
       "  background-color: #aec9fc;\n",
       "  color: #000000;\n",
       "}\n",
       "#T_89eb3_row3_col1 {\n",
       "  background-color: #3d50c3;\n",
       "  color: #f1f1f1;\n",
       "}\n",
       "#T_89eb3_row3_col2 {\n",
       "  background-color: #4e68d8;\n",
       "  color: #f1f1f1;\n",
       "}\n",
       "#T_89eb3_row4_col0 {\n",
       "  background-color: #d9dce1;\n",
       "  color: #000000;\n",
       "}\n",
       "#T_89eb3_row4_col1 {\n",
       "  background-color: #bed2f6;\n",
       "  color: #000000;\n",
       "}\n",
       "#T_89eb3_row4_col2 {\n",
       "  background-color: #e9785d;\n",
       "  color: #f1f1f1;\n",
       "}\n",
       "#T_89eb3_row4_col3 {\n",
       "  background-color: #b2ccfb;\n",
       "  color: #000000;\n",
       "}\n",
       "</style>\n",
       "<table id=\"T_89eb3\">\n",
       "  <thead>\n",
       "    <tr>\n",
       "      <th class=\"blank level0\" >&nbsp;</th>\n",
       "      <th id=\"T_89eb3_level0_col0\" class=\"col_heading level0 col0\" >HW1</th>\n",
       "      <th id=\"T_89eb3_level0_col1\" class=\"col_heading level0 col1\" >HW2</th>\n",
       "      <th id=\"T_89eb3_level0_col2\" class=\"col_heading level0 col2\" >Midterm</th>\n",
       "      <th id=\"T_89eb3_level0_col3\" class=\"col_heading level0 col3\" >Project</th>\n",
       "      <th id=\"T_89eb3_level0_col4\" class=\"col_heading level0 col4\" >Final</th>\n",
       "    </tr>\n",
       "  </thead>\n",
       "  <tbody>\n",
       "    <tr>\n",
       "      <th id=\"T_89eb3_level0_row0\" class=\"row_heading level0 row0\" >HW1</th>\n",
       "      <td id=\"T_89eb3_row0_col0\" class=\"data row0 col0\" >1.000000</td>\n",
       "      <td id=\"T_89eb3_row0_col1\" class=\"data row0 col1\" >0.234869</td>\n",
       "      <td id=\"T_89eb3_row0_col2\" class=\"data row0 col2\" >0.643964</td>\n",
       "      <td id=\"T_89eb3_row0_col3\" class=\"data row0 col3\" >0.499241</td>\n",
       "      <td id=\"T_89eb3_row0_col4\" class=\"data row0 col4\" >0.607440</td>\n",
       "    </tr>\n",
       "    <tr>\n",
       "      <th id=\"T_89eb3_level0_row1\" class=\"row_heading level0 row1\" >HW2</th>\n",
       "      <td id=\"T_89eb3_row1_col0\" class=\"data row1 col0\" >0.234869</td>\n",
       "      <td id=\"T_89eb3_row1_col1\" class=\"data row1 col1\" >1.000000</td>\n",
       "      <td id=\"T_89eb3_row1_col2\" class=\"data row1 col2\" >0.533002</td>\n",
       "      <td id=\"T_89eb3_row1_col3\" class=\"data row1 col3\" >0.243666</td>\n",
       "      <td id=\"T_89eb3_row1_col4\" class=\"data row1 col4\" >0.535352</td>\n",
       "    </tr>\n",
       "    <tr>\n",
       "      <th id=\"T_89eb3_level0_row2\" class=\"row_heading level0 row2\" >Midterm</th>\n",
       "      <td id=\"T_89eb3_row2_col0\" class=\"data row2 col0\" >0.643964</td>\n",
       "      <td id=\"T_89eb3_row2_col1\" class=\"data row2 col1\" >0.533002</td>\n",
       "      <td id=\"T_89eb3_row2_col2\" class=\"data row2 col2\" >1.000000</td>\n",
       "      <td id=\"T_89eb3_row2_col3\" class=\"data row2 col3\" >0.563627</td>\n",
       "      <td id=\"T_89eb3_row2_col4\" class=\"data row2 col4\" >0.917941</td>\n",
       "    </tr>\n",
       "    <tr>\n",
       "      <th id=\"T_89eb3_level0_row3\" class=\"row_heading level0 row3\" >Project</th>\n",
       "      <td id=\"T_89eb3_row3_col0\" class=\"data row3 col0\" >0.499241</td>\n",
       "      <td id=\"T_89eb3_row3_col1\" class=\"data row3 col1\" >0.243666</td>\n",
       "      <td id=\"T_89eb3_row3_col2\" class=\"data row3 col2\" >0.563627</td>\n",
       "      <td id=\"T_89eb3_row3_col3\" class=\"data row3 col3\" >1.000000</td>\n",
       "      <td id=\"T_89eb3_row3_col4\" class=\"data row3 col4\" >0.512569</td>\n",
       "    </tr>\n",
       "    <tr>\n",
       "      <th id=\"T_89eb3_level0_row4\" class=\"row_heading level0 row4\" >Final</th>\n",
       "      <td id=\"T_89eb3_row4_col0\" class=\"data row4 col0\" >0.607440</td>\n",
       "      <td id=\"T_89eb3_row4_col1\" class=\"data row4 col1\" >0.535352</td>\n",
       "      <td id=\"T_89eb3_row4_col2\" class=\"data row4 col2\" >0.917941</td>\n",
       "      <td id=\"T_89eb3_row4_col3\" class=\"data row4 col3\" >0.512569</td>\n",
       "      <td id=\"T_89eb3_row4_col4\" class=\"data row4 col4\" >1.000000</td>\n",
       "    </tr>\n",
       "  </tbody>\n",
       "</table>\n"
      ],
      "text/plain": [
       "<pandas.io.formats.style.Styler at 0x27dd01985d0>"
      ]
     },
     "execution_count": 108,
     "metadata": {},
     "output_type": "execute_result"
    }
   ],
   "source": [
    "cor = df.corr()\n",
    "cor.style.background_gradient(cmap=\"coolwarm\")"
   ]
  },
  {
   "cell_type": "code",
   "execution_count": 109,
   "id": "31ab2b02",
   "metadata": {
    "scrolled": true
   },
   "outputs": [
    {
     "name": "stdout",
     "output_type": "stream",
     "text": [
      "Project    0.512569\n",
      "HW2        0.535352\n",
      "HW1        0.607440\n",
      "Midterm    0.917941\n",
      "Final      1.000000\n",
      "dtype: float64\n"
     ]
    }
   ],
   "source": [
    "cor = df.corrwith(df['Final'])\n",
    "so = cor.sort_values(kind=\"quicksort\")\n",
    "print (so)"
   ]
  },
  {
   "cell_type": "markdown",
   "id": "2ed72972",
   "metadata": {},
   "source": [
    "Frow what we see from the correlation results above, the midterm marks gives us the best correlation to the Final."
   ]
  },
  {
   "cell_type": "markdown",
   "id": "2e4751e0",
   "metadata": {},
   "source": [
    "<h2> Question 3 </h2>"
   ]
  },
  {
   "cell_type": "markdown",
   "id": "3966cf3a",
   "metadata": {},
   "source": [
    "Implement the closed form solution of linear regression and use it to learn a\n",
    "linear model to predict the final exam from the variable you selected in part 2."
   ]
  },
  {
   "cell_type": "code",
   "execution_count": 110,
   "id": "3b6e74eb",
   "metadata": {},
   "outputs": [
    {
     "data": {
      "text/plain": [
       "<matplotlib.collections.PathCollection at 0x27db7cd1350>"
      ]
     },
     "execution_count": 110,
     "metadata": {},
     "output_type": "execute_result"
    },
    {
     "data": {
      "image/png": "[encoded data removed]",
      "text/plain": [
       "<Figure size 640x480 with 1 Axes>"
      ]
     },
     "metadata": {},
     "output_type": "display_data"
    }
   ],
   "source": [
    "mid = df.iloc[:,2 :3 ]\n",
    "final = df.iloc[:,4 : ]\n",
    "plt.scatter(mid, final)"
   ]
  },
  {
   "cell_type": "code",
   "execution_count": 111,
   "id": "b73de578",
   "metadata": {},
   "outputs": [],
   "source": [
    "def find_theta(X,y):\n",
    "    m = X.shape[0]\n",
    "    X = np.append(X, np.ones((m,1)), axis=1)    \n",
    "    #y = y.reshape(m,1)\n",
    "    \n",
    "    theta = np.dot(np.linalg.inv(np.dot(X.T, X)), np.dot(X.T, y))\n",
    "    \n",
    "    return theta"
   ]
  },
  {
   "cell_type": "code",
   "execution_count": 112,
   "id": "ec44e91f",
   "metadata": {},
   "outputs": [],
   "source": [
    "def predict(X):\n",
    "    \n",
    "    X = np.append(X, np.ones((X.shape[0],1)), axis=1)\n",
    "    \n",
    "    preds = np.dot(X, theta)\n",
    "    \n",
    "    return preds"
   ]
  },
  {
   "cell_type": "code",
   "execution_count": 113,
   "id": "f14e8301",
   "metadata": {},
   "outputs": [
    {
     "data": {
      "text/plain": [
       "array([[ 1.34463165],\n",
       "       [14.57627542]])"
      ]
     },
     "execution_count": 113,
     "metadata": {},
     "output_type": "execute_result"
    }
   ],
   "source": [
    "theta = find_theta(mid, final)\n",
    "theta"
   ]
  },
  {
   "cell_type": "code",
   "execution_count": 114,
   "id": "cc3d7956",
   "metadata": {},
   "outputs": [
    {
     "data": {
      "text/plain": [
       "array([[57.60448819],\n",
       "       [48.19206664],\n",
       "       [60.29375148],\n",
       "       [61.63838313],\n",
       "       [41.4689084 ],\n",
       "       [49.53669829],\n",
       "       [44.1581717 ],\n",
       "       [49.53669829],\n",
       "       [54.91522489],\n",
       "       [42.81354005],\n",
       "       [38.7796451 ],\n",
       "       [52.22596159],\n",
       "       [53.57059324],\n",
       "       [49.53669829],\n",
       "       [53.57059324],\n",
       "       [52.22596159],\n",
       "       [52.22596159],\n",
       "       [50.88132994],\n",
       "       [68.36154138],\n",
       "       [91.22027941],\n",
       "       [89.87564776],\n",
       "       [60.29375148],\n",
       "       [57.60448819],\n",
       "       [58.06670532],\n",
       "       [73.74006797],\n",
       "       [48.19206664],\n",
       "       [76.42933127],\n",
       "       [72.39543633],\n",
       "       [79.11859457],\n",
       "       [69.70617303],\n",
       "       [77.77396292],\n",
       "       [65.67227808]])"
      ]
     },
     "execution_count": 114,
     "metadata": {},
     "output_type": "execute_result"
    }
   ],
   "source": [
    "preds = predict(mid)\n",
    "preds"
   ]
  },
  {
   "cell_type": "code",
   "execution_count": 115,
   "id": "60d4dde4",
   "metadata": {},
   "outputs": [
    {
     "data": {
      "text/plain": [
       "Text(0, 0.5, 'y - target')"
      ]
     },
     "execution_count": 115,
     "metadata": {},
     "output_type": "execute_result"
    },
    {
     "data": {
      "image/png": "[encoded data removed]",
      "text/plain": [
       "<Figure size 800x600 with 1 Axes>"
      ]
     },
     "metadata": {},
     "output_type": "display_data"
    }
   ],
   "source": [
    "fig = plt.figure(figsize=(8,6))\n",
    "plt.plot(mid, final, 'b.')\n",
    "plt.plot(mid, preds, 'c-')\n",
    "plt.xlabel('X - Input')\n",
    "plt.ylabel('y - target')"
   ]
  },
  {
   "cell_type": "markdown",
   "id": "54c3bae9",
   "metadata": {},
   "source": [
    "<h2> Question 4 </h2>"
   ]
  },
  {
   "cell_type": "markdown",
   "id": "567b2372",
   "metadata": {},
   "source": [
    "Repeat part 3 but now by implementing the gradient descent algorithm."
   ]
  },
  {
   "cell_type": "code",
   "execution_count": 130,
   "id": "0a2b9e85",
   "metadata": {
    "scrolled": true
   },
   "outputs": [],
   "source": [
    "featuers = df.iloc[:,2 :3 ]\n",
    "featuers.insert(0, 'Ones', 1)"
   ]
  },
  {
   "cell_type": "code",
   "execution_count": 131,
   "id": "0ed7171f",
   "metadata": {},
   "outputs": [],
   "source": [
    "arr = featuers.to_numpy()\n",
    "arr2 = final.to_numpy()\n",
    "weights = np.zeros((2,1))\n",
    "bias =0\n",
    "m=32\n",
    "lr=0.0001\n",
    "#losses = []\n",
    "i=1\n",
    "for i in range (100):\n",
    "    y_hat = np.dot(arr, weights)\n",
    "    #loss = np.mean((y_hat - arr2)**2)\n",
    "    #losses.append(loss)\n",
    "    dw = (2/m)*np.sum(np.dot(arr.T, (y_hat - arr2)))\n",
    "    weights -= lr*dw"
   ]
  },
  {
   "cell_type": "code",
   "execution_count": 134,
   "id": "dbe3a57b",
   "metadata": {
    "scrolled": true
   },
   "outputs": [
    {
     "data": {
      "text/plain": [
       "46.64010780955576"
      ]
     },
     "execution_count": 134,
     "metadata": {},
     "output_type": "execute_result"
    }
   ],
   "source": [
    "np.sum((np.dot(arr, weights) - arr2)**2)/32"
   ]
  },
  {
   "cell_type": "code",
   "execution_count": 136,
   "id": "33910ac1",
   "metadata": {
    "scrolled": false
   },
   "outputs": [
    {
     "data": {
      "text/plain": [
       "Text(0, 0.5, 'y (Target) : Final')"
      ]
     },
     "execution_count": 136,
     "metadata": {},
     "output_type": "execute_result"
    },
    {
     "data": {
      "image/png": "[encoded data removed]",
      "text/plain": [
       "<Figure size 800x600 with 1 Axes>"
      ]
     },
     "metadata": {},
     "output_type": "display_data"
    }
   ],
   "source": [
    "fig = plt.figure(figsize=(8,6))\n",
    "plt.scatter(mid, final)\n",
    "plt.plot(arr[:,1], np.dot(arr, weights))  # X and predictions.\n",
    "plt.title('Features vs Final')\n",
    "plt.xlabel('X (Input) : Features')\n",
    "plt.ylabel('y (Target) : Final')"
   ]
  },
  {
   "cell_type": "markdown",
   "id": "6d1dee4a",
   "metadata": {},
   "source": [
    "<h2> Question 5 </h2>"
   ]
  },
  {
   "cell_type": "markdown",
   "id": "d76582c3",
   "metadata": {},
   "source": [
    "Repeat part 3 but now using the linear regression implementation of scikitlearn python library."
   ]
  },
  {
   "cell_type": "code",
   "execution_count": 140,
   "id": "6841cba8",
   "metadata": {
    "scrolled": false
   },
   "outputs": [
    {
     "data": {
      "image/png": "[encoded data removed]",
      "text/plain": [
       "<Figure size 640x480 with 1 Axes>"
      ]
     },
     "metadata": {},
     "output_type": "display_data"
    }
   ],
   "source": [
    "X = df.iloc[:,2 :3 ].to_numpy()\n",
    "Y = final.to_numpy()\n",
    "\n",
    "linear_regressor = LinearRegression()\n",
    "linear_regressor.fit(X, Y)\n",
    "Y_pred = linear_regressor.predict(X)\n",
    "plt.scatter(X, Y)\n",
    "plt.plot(X, Y_pred, color='red')\n",
    "plt.show()"
   ]
  },
  {
   "cell_type": "markdown",
   "id": "1d969643",
   "metadata": {},
   "source": [
    "<h2> Question 6 </h2>"
   ]
  },
  {
   "cell_type": "markdown",
   "id": "815af12d",
   "metadata": {},
   "source": [
    "Compare the answers from part 3, 4, and 5. In each case compute the error of the\n",
    "learned models."
   ]
  },
  {
   "cell_type": "markdown",
   "id": "255c6521",
   "metadata": {},
   "source": [
    "Error for implementerd linear regression is:"
   ]
  },
  {
   "cell_type": "code",
   "execution_count": 144,
   "id": "996247a8",
   "metadata": {},
   "outputs": [
    {
     "data": {
      "text/plain": [
       "33.18404402064998"
      ]
     },
     "execution_count": 144,
     "metadata": {},
     "output_type": "execute_result"
    }
   ],
   "source": [
    "np.sum((preds - arr2)**2)/32"
   ]
  },
  {
   "cell_type": "markdown",
   "id": "52d8ed13",
   "metadata": {},
   "source": [
    "Error for implementerd gradient descent is:"
   ]
  },
  {
   "cell_type": "code",
   "execution_count": 149,
   "id": "272b68d9",
   "metadata": {},
   "outputs": [
    {
     "data": {
      "text/plain": [
       "46.64010780955576"
      ]
     },
     "execution_count": 149,
     "metadata": {},
     "output_type": "execute_result"
    }
   ],
   "source": [
    "np.sum((np.dot(arr, weights) - arr2)**2)/32"
   ]
  },
  {
   "cell_type": "markdown",
   "id": "76dee74a",
   "metadata": {},
   "source": [
    "Error for Scikit-learn library linear regression is:"
   ]
  },
  {
   "cell_type": "code",
   "execution_count": 142,
   "id": "14c7ab62",
   "metadata": {},
   "outputs": [
    {
     "data": {
      "text/plain": [
       "Final    33.184044\n",
       "dtype: float64"
      ]
     },
     "execution_count": 142,
     "metadata": {},
     "output_type": "execute_result"
    }
   ],
   "source": [
    "((Y_pred-final)**2).mean()"
   ]
  },
  {
   "cell_type": "markdown",
   "id": "90d06f5b",
   "metadata": {},
   "source": [
    "Baed on the errors given apove we can see that the linear geression is much better to use as learning algorithm for our given dataset and results that gradient descent."
   ]
  },
  {
   "cell_type": "code",
   "execution_count": null,
   "id": "44c7a297",
   "metadata": {},
   "outputs": [],
   "source": []
  }
 ],
 "metadata": {
  "kernelspec": {
   "display_name": "Python 3 (ipykernel)",
   "language": "python",
   "name": "python3"
  },
  "language_info": {
   "codemirror_mode": {
    "name": "ipython",
    "version": 3
   },
   "file_extension": ".py",
   "mimetype": "text/x-python",
   "name": "python",
   "nbconvert_exporter": "python",
   "pygments_lexer": "ipython3",
   "version": "3.10.8"
  }
 },
 "nbformat": 4,
 "nbformat_minor": 5
}
